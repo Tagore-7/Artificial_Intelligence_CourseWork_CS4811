{
 "cells": [
  {
   "cell_type": "code",
   "execution_count": 7,
   "id": "d13f2011-6a12-4c26-be63-5d6f989b90a3",
   "metadata": {},
   "outputs": [
    {
     "name": "stdout",
     "output_type": "stream",
     "text": [
      "Duck: Hello! May I know your name?\n"
     ]
    },
    {
     "name": "stdin",
     "output_type": "stream",
     "text": [
      "User:  tagore\n"
     ]
    },
    {
     "name": "stdout",
     "output_type": "stream",
     "text": [
      "Duck: It's nice meeting tagore here! Let's talk about your program.\n",
      "Duck: What programming language did you use for your coding?\n"
     ]
    },
    {
     "name": "stdin",
     "output_type": "stream",
     "text": [
      "User:  python\n"
     ]
    },
    {
     "name": "stdout",
     "output_type": "stream",
     "text": [
      "Duck: Let's get started! Please enter your program.\n"
     ]
    },
    {
     "name": "stdin",
     "output_type": "stream",
     "text": [
      "User:  else if for enum true\n"
     ]
    },
    {
     "name": "stdout",
     "output_type": "stream",
     "text": [
      "Duck: What's the purpose of 'else' in your program?\n"
     ]
    },
    {
     "name": "stdin",
     "output_type": "stream",
     "text": [
      "User:  hsdj\n"
     ]
    },
    {
     "name": "stdout",
     "output_type": "stream",
     "text": [
      "Duck: What's the purpose of 'for' in your program?\n"
     ]
    },
    {
     "name": "stdin",
     "output_type": "stream",
     "text": [
      "User:  has\n"
     ]
    },
    {
     "name": "stdout",
     "output_type": "stream",
     "text": [
      "Duck: What's the purpose of 'if' in your program?\n"
     ]
    },
    {
     "name": "stdin",
     "output_type": "stream",
     "text": [
      "User:  shj\n"
     ]
    },
    {
     "name": "stdout",
     "output_type": "stream",
     "text": [
      "Duck: That's an impressive program! Well done.\n",
      "Duck: What does the program intend to do?\n"
     ]
    },
    {
     "name": "stdin",
     "output_type": "stream",
     "text": [
      "User:  hsh\n"
     ]
    },
    {
     "name": "stdout",
     "output_type": "stream",
     "text": [
      "Duck: What were your challenges while writing this program?\n"
     ]
    },
    {
     "name": "stdin",
     "output_type": "stream",
     "text": [
      "User:  hj]\n"
     ]
    },
    {
     "name": "stdout",
     "output_type": "stream",
     "text": [
      "Duck: How did you solve the challenges?\n"
     ]
    },
    {
     "name": "stdin",
     "output_type": "stream",
     "text": [
      "User:  fds\n"
     ]
    },
    {
     "name": "stdout",
     "output_type": "stream",
     "text": [
      "Duck: Thank you for sharing your coding experience!\n"
     ]
    }
   ],
   "source": [
    "import re\n",
    "import difflib\n",
    "\n",
    "class RubberDuckChatbot:\n",
    "    def __init__(self):\n",
    "        self.programming_languages = {\n",
    "            \n",
    "            # Add many as prrogramming languages you want and add their key words respectively \n",
    "            'C': [\n",
    "    \"auto\", \"break\", \"case\", \"char\",\n",
    "    \"const\", \"continue\", \"default\", \"do\",\n",
    "    \"double\", \"else\", \"enum\", \"extern\",\n",
    "    \"float\", \"for\", \"goto\", \"if\",\n",
    "    \"inline\", \"int\", \"long\", \"register\",\n",
    "    \"restrict\", \"return\", \"short\", \"signed\",\n",
    "    \"sizeof\", \"static\", \"struct\", \"switch\",\n",
    "    \"typedef\", \"union\", \"unsigned\", \"void\",\n",
    "    \"volatile\", \"while\", \"_Alignas\", \"_Alignof\",\n",
    "    \"_Atomic\", \"_Bool\", \"_Complex\", \"_Generic\",\n",
    "    \"_Imaginary\", \"_Noreturn\", \"_Static_assert\", \"_Thread_local\"\n",
    "],\n",
    "            'C++': [\n",
    "    \"asm\", \"auto\", \"bool\", \"break\",\n",
    "    \"case\", \"catch\", \"char\", \"class\",\n",
    "    \"const\", \"const_cast\", \"continue\", \"default\",\n",
    "    \"delete\", \"do\", \"double\", \"dynamic_cast\",\n",
    "    \"else\", \"enum\", \"explicit\", \"export\",\n",
    "    \"extern\", \"false\", \"float\", \"for\",\n",
    "    \"friend\", \"goto\", \"if\", \"inline\",\n",
    "    \"int\", \"long\", \"mutable\", \"namespace\",\n",
    "    \"new\", \"operator\", \"private\", \"protected\",\n",
    "    \"public\", \"register\", \"reinterpret_cast\", \"return\",\n",
    "    \"short\", \"signed\", \"sizeof\", \"static\",\n",
    "    \"static_cast\", \"struct\", \"switch\", \"template\",\n",
    "    \"this\", \"throw\", \"true\", \"try\",\n",
    "    \"typedef\", \"typeid\", \"typename\", \"union\",\n",
    "    \"unsigned\", \"using\", \"virtual\", \"void\",\n",
    "    \"volatile\", \"wchar_t\", \"while\", \"and\",\n",
    "    \"and_eq\", \"bitand\", \"bitor\", \"compl\",\n",
    "    \"not\", \"not_eq\", \"or\", \"or_eq\",\n",
    "    \"xor\", \"xor_eq\"\n",
    "],\n",
    "            'java': [\n",
    "    \"abstract\", \"assert\", \"boolean\", \"break\",\n",
    "    \"byte\", \"case\", \"catch\", \"char\",\n",
    "    \"class\", \"const\", \"continue\", \"default\",\n",
    "    \"do\", \"double\", \"else\", \"enum\",\n",
    "    \"extends\", \"final\", \"finally\", \"float\",\n",
    "    \"for\", \"if\", \"goto\", \"implements\",\n",
    "    \"import\", \"instanceof\", \"int\", \"interface\",\n",
    "    \"long\", \"native\", \"new\", \"package\",\n",
    "    \"private\", \"protected\", \"public\", \"return\",\n",
    "    \"short\", \"static\", \"strictfp\", \"super\",\n",
    "    \"switch\", \"synchronized\", \"this\", \"throw\",\n",
    "    \"throws\", \"transient\", \"try\", \"void\",\n",
    "    \"volatile\", \"while\", \"_\", \"exports\",\n",
    "    \"module\", \"non-sealed\", \"open\", \"opens\",\n",
    "    \"permits\", \"provides\", \"record\", \"requires\",\n",
    "    \"sealed\", \"to\", \"transitive\", \"uses\",\n",
    "    \"var\", \"with\", \"yield\"\n",
    "],\n",
    "            'python':  [\n",
    "    False, None, True, \"and\",\n",
    "    \"as\", \"assert\", \"async\", \"await\",\n",
    "    \"break\", \"class\", \"continue\", \"def\",\n",
    "    \"del\", \"elif\", \"else\", \"except\",\n",
    "    \"finally\", \"for\", \"from\", \"global\",\n",
    "    \"if\", \"import\", \"in\", \"is\",\n",
    "    \"lambda\", \"nonlocal\", \"not\", \"or\",\n",
    "    \"pass\", \"raise\", \"return\", \"try\",\n",
    "    \"while\", \"with\", \"yield\", \"match\",\n",
    "    \"case\"\n",
    "]\n",
    "            \n",
    "        }\n",
    "\n",
    "    def greet_user(self):\n",
    "        print(\"Duck: Hello! May I know your name?\")\n",
    "        user_name = input(\"User: \")\n",
    "        print(f\"Duck: It's nice meeting {user_name} here! Let's talk about your program.\")\n",
    "\n",
    "    def get_programming_language(self):\n",
    "        while True:\n",
    "            print(\"Duck: What programming language did you use for your coding?\")\n",
    "            user_language = input(\"User: \")\n",
    "            if user_language in self.programming_languages:\n",
    "                print(\"Duck: Let's get started! Please enter your program.\")\n",
    "                return user_language\n",
    "            else:\n",
    "                print(\"Duck: Please enter a valid programming language.\")\n",
    "            \n",
    "    def process_program(self, user_language):\n",
    "        user_program = input(\"User: \")\n",
    "        keywords = self.programming_languages[user_language]\n",
    "\n",
    "       \n",
    "        user_keywords = [word.lower() for word in re.findall(r'\\b\\w+\\b', user_program)]\n",
    "        matching_keywords = set(user_keywords).intersection(keywords)\n",
    "\n",
    "        for keyword in matching_keywords:\n",
    "            print(f\"Duck: What's the purpose of '{keyword}' in your program?\")\n",
    "            user_explanation = input(\"User: \")\n",
    "            \n",
    "\n",
    "\n",
    "        print(\"Duck: That's an impressive program! Well done.\")\n",
    "        print(\"Duck: What does the program intend to do?\")\n",
    "        user_goal = input(\"User: \")\n",
    "        \n",
    "\n",
    "        print(\"Duck: What were your challenges while writing this program?\")\n",
    "        user_challenges = input(\"User: \")\n",
    "\n",
    "        print(\"Duck: How did you solve the challenges?\")\n",
    "        user_solution = input(\"User: \")\n",
    "\n",
    "        print(\"Duck: Thank you for sharing your coding experience!\")\n",
    "\n",
    "    def run_chatbot(self):\n",
    "        self.greet_user()\n",
    "        user_language = self.get_programming_language()\n",
    "        self.process_program(user_language)\n",
    "\n",
    "\n",
    "rubber_duck_chatbot = RubberDuckChatbot()\n",
    "rubber_duck_chatbot.run_chatbot()\n"
   ]
  },
  {
   "cell_type": "code",
   "execution_count": null,
   "id": "b8975651-5df4-47b9-ba0b-99f00880f7a1",
   "metadata": {},
   "outputs": [],
   "source": []
  },
  {
   "cell_type": "code",
   "execution_count": null,
   "id": "02539e66-c930-49a1-8f9b-7ec375151827",
   "metadata": {},
   "outputs": [],
   "source": []
  }
 ],
 "metadata": {
  "kernelspec": {
   "display_name": "Python 3 (ipykernel)",
   "language": "python",
   "name": "python3"
  },
  "language_info": {
   "codemirror_mode": {
    "name": "ipython",
    "version": 3
   },
   "file_extension": ".py",
   "mimetype": "text/x-python",
   "name": "python",
   "nbconvert_exporter": "python",
   "pygments_lexer": "ipython3",
   "version": "3.10.12"
  }
 },
 "nbformat": 4,
 "nbformat_minor": 5
}
